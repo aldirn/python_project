{
 "cells": [
  {
   "cell_type": "markdown",
   "id": "1fc616fc",
   "metadata": {},
   "source": [
    "Pandas explode()"
   ]
  },
  {
   "cell_type": "code",
   "execution_count": 1,
   "id": "1a341cd2",
   "metadata": {},
   "outputs": [],
   "source": [
    "# Importing Libraries\n",
    "import ast\n",
    "import pandas as pd\n",
    "from datasets import load_dataset\n",
    "import matplotlib.pyplot as plt\n",
    "\n",
    "# Loading Data\n",
    "dataset = load_dataset('lukebarousse/data_jobs')\n",
    "df = dataset['train'].to_pandas()\n",
    "\n",
    "# Data Cleanup\n",
    "df['job_posted_date'] = pd.to_datetime(df['job_posted_date'])"
   ]
  },
  {
   "cell_type": "code",
   "execution_count": 2,
   "id": "f26af859",
   "metadata": {},
   "outputs": [],
   "source": [
    "df['job_skills'] = df['job_skills'].apply(lambda x: ast.literal_eval(x) if pd.notna(x) else x )\n"
   ]
  },
  {
   "cell_type": "code",
   "execution_count": 3,
   "id": "796c05e5",
   "metadata": {},
   "outputs": [],
   "source": [
    "df_explode = df.explode(column='job_skills').copy()"
   ]
  },
  {
   "cell_type": "code",
   "execution_count": 11,
   "id": "ad6f6aa7",
   "metadata": {},
   "outputs": [
    {
     "data": {
      "text/plain": [
       "job_title_short    job_skills\n",
       "Business Analyst   airflow        318\n",
       "                   airtable        17\n",
       "                   alteryx       1078\n",
       "                   angular         87\n",
       "                   ansible        120\n",
       "                                 ... \n",
       "Software Engineer  wrike            4\n",
       "                   wsl             13\n",
       "                   xamarin         35\n",
       "                   yarn           145\n",
       "                   zoom           229\n",
       "Length: 2256, dtype: int64"
      ]
     },
     "execution_count": 11,
     "metadata": {},
     "output_type": "execute_result"
    }
   ],
   "source": [
    "skills_count = df_explode.groupby(['job_title_short', 'job_skills']).size().copy()\n",
    "skills_count"
   ]
  },
  {
   "cell_type": "code",
   "execution_count": 13,
   "id": "2ead6ca4",
   "metadata": {},
   "outputs": [],
   "source": [
    "df_skills_count = skills_count.reset_index(name='skill_count').copy()\n"
   ]
  },
  {
   "cell_type": "code",
   "execution_count": 42,
   "id": "531f3437",
   "metadata": {},
   "outputs": [],
   "source": [
    "df_skills_count = df_skills_count.sort_values(by='skill_count', ascending=False)"
   ]
  },
  {
   "cell_type": "code",
   "execution_count": 43,
   "id": "49445106",
   "metadata": {},
   "outputs": [],
   "source": [
    "job_title = 'Data Analyst'\n",
    "top_skills = 10\n",
    "\n",
    "df_skill_final = df_skills_count[df_skills_count['job_title_short'] == job_title].head(top_skills).copy()"
   ]
  },
  {
   "cell_type": "code",
   "execution_count": 50,
   "id": "503909c9",
   "metadata": {},
   "outputs": [
    {
     "data": {
      "image/png": "[encoded data removed]",
      "text/plain": [
       "<Figure size 640x480 with 1 Axes>"
      ]
     },
     "metadata": {},
     "output_type": "display_data"
    }
   ],
   "source": [
    "df_skill_final.plot(kind='barh', x='job_skills', y='skill_count')\n",
    "plt.gca().invert_yaxis()\n",
    "plt.title(f'Top {top_skills} Skills for {job_title}s')\n",
    "plt.xlabel('Job Posting Count')\n",
    "plt.ylabel('')\n",
    "plt.legend().set_visible(False)\n",
    "plt.show()"
   ]
  }
 ],
 "metadata": {
  "kernelspec": {
   "display_name": "venv",
   "language": "python",
   "name": "python3"
  },
  "language_info": {
   "codemirror_mode": {
    "name": "ipython",
    "version": 3
   },
   "file_extension": ".py",
   "mimetype": "text/x-python",
   "name": "python",
   "nbconvert_exporter": "python",
   "pygments_lexer": "ipython3",
   "version": "3.12.4"
  }
 },
 "nbformat": 4,
 "nbformat_minor": 5
}
